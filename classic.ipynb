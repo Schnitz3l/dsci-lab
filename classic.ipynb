{
 "cells": [
  {
   "cell_type": "code",
   "execution_count": 5,
   "metadata": {},
   "outputs": [],
   "source": [
    "import numpy as np\n",
    "import pandas as pd\n",
    "from pandas import DataFrame\n",
    "from sklearn import preprocessing\n",
    "from sklearn.metrics import confusion_matrix\n",
    "from sklearn.linear_model import LogisticRegression\n",
    "from sklearn.metrics import accuracy_score as ass\n",
    "\n",
    "#read values\n",
    "y_train = pd.read_csv(\"B_y_train.csv\",delimiter=\",\")\n",
    "y_test = pd.read_csv(\"B_y_test.csv\",delimiter=\",\")\n",
    "x_train = pd.read_csv(\"B_X_train.csv\",delimiter=\",\")\n",
    "x_test = pd.read_csv(\"B_X_test.csv\",delimiter=\",\")\n",
    "#Clean Values\n",
    "x_train.pop('Unnamed: 0')\n",
    "x_test.pop('Unnamed: 0')\n",
    "y_train.pop('Unnamed: 0')\n",
    "y_test.pop('Unnamed: 0')\n",
    "#Feature Engineering\n",
    "x_train['volbr'] = (x_train['Breite']*x_train['Volumen'])\n",
    "x_train['volho'] = (x_train['Hoehe']*x_train['Volumen'])\n",
    "x_test['volbr'] = (x_test['Breite']*x_test['Volumen'])\n",
    "x_test['volho'] = (x_test['Hoehe']*x_test['Volumen'])"
   ]
  },
  {
   "cell_type": "code",
   "execution_count": 6,
   "metadata": {},
   "outputs": [
    {
     "name": "stderr",
     "output_type": "stream",
     "text": [
      "C:\\Users\\Lukas\\Anaconda3\\lib\\site-packages\\sklearn\\preprocessing\\label.py:111: DataConversionWarning: A column-vector y was passed when a 1d array was expected. Please change the shape of y to (n_samples, ), for example using ravel().\n",
      "  y = column_or_1d(y, warn=True)\n"
     ]
    }
   ],
   "source": [
    "le = preprocessing.LabelEncoder()\n",
    "y_train_df = DataFrame()\n",
    "y_test_df = DataFrame()\n",
    "y_train_df=le.fit_transform(y_train)\n",
    "y_test_df =le.fit_transform(y_test)\n",
    "\n",
    "scaler_test = preprocessing.StandardScaler()\n",
    "scaled_df_train = scaler_test.fit_transform(x_train)\n",
    "scaled_x_train = pd.DataFrame(scaled_df_train)\n",
    "scaled_df_test = scaler_test.fit_transform(x_test)\n",
    "scaled_x_test = pd.DataFrame(scaled_df_test)"
   ]
  },
  {
   "cell_type": "code",
   "execution_count": 11,
   "metadata": {},
   "outputs": [
    {
     "name": "stdout",
     "output_type": "stream",
     "text": [
      "Accuracy: 0.47878787878787876\n",
      "[[65 57  5 12]\n",
      " [10 16  2  0]\n",
      " [ 3  5 62 48]\n",
      " [ 8 14  8 15]]\n"
     ]
    }
   ],
   "source": [
    "regr = LogisticRegression(penalty='elasticnet',multi_class='multinomial',solver='saga',max_iter=10000)\n",
    "regr.fit(scaled_x_train, y_train_df)\n",
    "resultData = regr.predict (scaled_x_test)\n",
    "result_df = DataFrame(resultData)\n",
    "orig_df = DataFrame(y_test_df)\n",
    "\n",
    "print(\"Accuracy: \" +str(ass(orig_df,result_df)))\n",
    "print(confusion_matrix(result_df,y_test_df))"
   ]
  }
 ],
 "metadata": {
  "kernelspec": {
   "display_name": "Python 3",
   "language": "python",
   "name": "python3"
  },
  "language_info": {
   "codemirror_mode": {
    "name": "ipython",
    "version": 3
   },
   "file_extension": ".py",
   "mimetype": "text/x-python",
   "name": "python",
   "nbconvert_exporter": "python",
   "pygments_lexer": "ipython3",
   "version": "3.7.0"
  }
 },
 "nbformat": 4,
 "nbformat_minor": 2
}
